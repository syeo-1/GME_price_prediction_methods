{
 "cells": [
  {
   "cell_type": "code",
   "execution_count": 543,
   "metadata": {},
   "outputs": [],
   "source": [
    "import pandas as pd\n",
    "import numpy as np\n",
    "from keras.preprocessing.sequence import TimeseriesGenerator\n",
    "from keras.models import Sequential\n",
    "from keras.layers import LSTM, Dense, Dropout\n",
    "import matplotlib.pyplot as plt\n",
    "import math\n",
    "from sklearn.preprocessing import StandardScaler\n",
    "np.random.seed(1337)"
   ]
  },
  {
   "cell_type": "code",
   "execution_count": 544,
   "metadata": {},
   "outputs": [
    {
     "data": {
      "text/html": [
       "<div>\n",
       "<style scoped>\n",
       "    .dataframe tbody tr th:only-of-type {\n",
       "        vertical-align: middle;\n",
       "    }\n",
       "\n",
       "    .dataframe tbody tr th {\n",
       "        vertical-align: top;\n",
       "    }\n",
       "\n",
       "    .dataframe thead th {\n",
       "        text-align: right;\n",
       "    }\n",
       "</style>\n",
       "<table border=\"1\" class=\"dataframe\">\n",
       "  <thead>\n",
       "    <tr style=\"text-align: right;\">\n",
       "      <th></th>\n",
       "      <th>Date</th>\n",
       "      <th>Open</th>\n",
       "      <th>High</th>\n",
       "      <th>Low</th>\n",
       "      <th>Close</th>\n",
       "      <th>Adj Close</th>\n",
       "      <th>Volume</th>\n",
       "      <th>RSI</th>\n",
       "      <th>SMA</th>\n",
       "      <th>LMA</th>\n",
       "      <th>ADX</th>\n",
       "      <th>up</th>\n",
       "      <th>Score</th>\n",
       "      <th>Sentiment</th>\n",
       "    </tr>\n",
       "  </thead>\n",
       "  <tbody>\n",
       "    <tr>\n",
       "      <th>0</th>\n",
       "      <td>2021-02-17</td>\n",
       "      <td>49.770000</td>\n",
       "      <td>51.189999</td>\n",
       "      <td>44.560001</td>\n",
       "      <td>45.939999</td>\n",
       "      <td>45.939999</td>\n",
       "      <td>9186800.0</td>\n",
       "      <td>45.962590</td>\n",
       "      <td>110.887913</td>\n",
       "      <td>78.886475</td>\n",
       "      <td>26.642816</td>\n",
       "      <td>0</td>\n",
       "      <td>-0.173827</td>\n",
       "      <td>-1</td>\n",
       "    </tr>\n",
       "    <tr>\n",
       "      <th>1</th>\n",
       "      <td>2021-02-17</td>\n",
       "      <td>49.752222</td>\n",
       "      <td>51.157777</td>\n",
       "      <td>44.505695</td>\n",
       "      <td>45.867082</td>\n",
       "      <td>45.867082</td>\n",
       "      <td>9186800.0</td>\n",
       "      <td>45.953698</td>\n",
       "      <td>110.590784</td>\n",
       "      <td>78.899723</td>\n",
       "      <td>26.625878</td>\n",
       "      <td>0</td>\n",
       "      <td>-0.173827</td>\n",
       "      <td>-1</td>\n",
       "    </tr>\n",
       "    <tr>\n",
       "      <th>2</th>\n",
       "      <td>2021-02-17</td>\n",
       "      <td>49.734445</td>\n",
       "      <td>51.125555</td>\n",
       "      <td>44.451390</td>\n",
       "      <td>45.794166</td>\n",
       "      <td>45.794166</td>\n",
       "      <td>9186800.0</td>\n",
       "      <td>45.944800</td>\n",
       "      <td>110.295705</td>\n",
       "      <td>78.912937</td>\n",
       "      <td>26.608974</td>\n",
       "      <td>0</td>\n",
       "      <td>-0.173827</td>\n",
       "      <td>-1</td>\n",
       "    </tr>\n",
       "    <tr>\n",
       "      <th>3</th>\n",
       "      <td>2021-02-17</td>\n",
       "      <td>49.716667</td>\n",
       "      <td>51.093332</td>\n",
       "      <td>44.397084</td>\n",
       "      <td>45.721249</td>\n",
       "      <td>45.721249</td>\n",
       "      <td>9186800.0</td>\n",
       "      <td>45.935898</td>\n",
       "      <td>110.002673</td>\n",
       "      <td>78.926115</td>\n",
       "      <td>26.592103</td>\n",
       "      <td>0</td>\n",
       "      <td>-0.173827</td>\n",
       "      <td>-1</td>\n",
       "    </tr>\n",
       "    <tr>\n",
       "      <th>4</th>\n",
       "      <td>2021-02-17</td>\n",
       "      <td>49.698889</td>\n",
       "      <td>51.061110</td>\n",
       "      <td>44.342779</td>\n",
       "      <td>45.648332</td>\n",
       "      <td>45.648332</td>\n",
       "      <td>9186800.0</td>\n",
       "      <td>45.926990</td>\n",
       "      <td>109.711690</td>\n",
       "      <td>78.939260</td>\n",
       "      <td>26.575264</td>\n",
       "      <td>0</td>\n",
       "      <td>-0.173827</td>\n",
       "      <td>-1</td>\n",
       "    </tr>\n",
       "  </tbody>\n",
       "</table>\n",
       "</div>"
      ],
      "text/plain": [
       "         Date       Open       High        Low      Close  Adj Close  \\\n",
       "0  2021-02-17  49.770000  51.189999  44.560001  45.939999  45.939999   \n",
       "1  2021-02-17  49.752222  51.157777  44.505695  45.867082  45.867082   \n",
       "2  2021-02-17  49.734445  51.125555  44.451390  45.794166  45.794166   \n",
       "3  2021-02-17  49.716667  51.093332  44.397084  45.721249  45.721249   \n",
       "4  2021-02-17  49.698889  51.061110  44.342779  45.648332  45.648332   \n",
       "\n",
       "      Volume        RSI         SMA        LMA        ADX  up     Score  \\\n",
       "0  9186800.0  45.962590  110.887913  78.886475  26.642816   0 -0.173827   \n",
       "1  9186800.0  45.953698  110.590784  78.899723  26.625878   0 -0.173827   \n",
       "2  9186800.0  45.944800  110.295705  78.912937  26.608974   0 -0.173827   \n",
       "3  9186800.0  45.935898  110.002673  78.926115  26.592103   0 -0.173827   \n",
       "4  9186800.0  45.926990  109.711690  78.939260  26.575264   0 -0.173827   \n",
       "\n",
       "   Sentiment  \n",
       "0         -1  \n",
       "1         -1  \n",
       "2         -1  \n",
       "3         -1  \n",
       "4         -1  "
      ]
     },
     "execution_count": 544,
     "metadata": {},
     "output_type": "execute_result"
    }
   ],
   "source": [
    "# load up the augmented processed GME data\n",
    "processed_gme_data = pd.read_csv('GME_augmented_processed.csv')\n",
    "processed_gme_data.head()"
   ]
  },
  {
   "cell_type": "markdown",
   "metadata": {},
   "source": [
    "# Preprocessing"
   ]
  },
  {
   "cell_type": "markdown",
   "metadata": {},
   "source": [
    "First thing to do is to process the data for the LSTM. We'll have to create windows of data to feed into the network."
   ]
  },
  {
   "cell_type": "markdown",
   "metadata": {},
   "source": [
    "need 'lag obeservations': https://machinelearningmastery.com/how-to-use-the-timeseriesgenerator-for-time-series-forecasting-in-keras/"
   ]
  },
  {
   "cell_type": "code",
   "execution_count": 545,
   "metadata": {},
   "outputs": [
    {
     "name": "stdout",
     "output_type": "stream",
     "text": [
      "109.0\n",
      "5493\n"
     ]
    }
   ],
   "source": [
    "# data is for 109 days\n",
    "print(len(processed_gme_data)/72)\n",
    "\n",
    "# get the split point\n",
    "split_point = int(len(processed_gme_data)*0.7)\n",
    "print(split_point)\n",
    "\n",
    "# create a list of start of day indices to find the closest start of day index\n",
    "start_of_day_indices = [i for i in range(0, len(processed_gme_data), 72)]\n",
    "\n",
    "# find the start of day index that's closest to the split point\n",
    "min_dist = math.inf\n",
    "split_index = None\n",
    "for start_of_day_index in start_of_day_indices:\n",
    "    if abs(split_point-start_of_day_index) < min_dist:\n",
    "        min_dist = abs(split_point-start_of_day_index)\n",
    "        split_index = start_of_day_index"
   ]
  },
  {
   "cell_type": "markdown",
   "metadata": {},
   "source": [
    "So, training data will be using data from all days up to the 76th day (exclusive). In other words, training data uses 75 \"full\" days worth of data. Testing will use the rest of the data starting from the 76th day and onwards"
   ]
  },
  {
   "cell_type": "code",
   "execution_count": 546,
   "metadata": {},
   "outputs": [],
   "source": [
    "# define a window size for the length parameter (to use for TimeseriesGenerator later)\n",
    "window_size = 2\n",
    "\n",
    "# separate the data to training and testing (approximately 70/30)\n",
    "training = processed_gme_data[:split_index]\n",
    "# offset by window_size since time series training will use input of window_size rows with output of the first row\n",
    "testing = processed_gme_data[split_index - window_size:]\n",
    "\n",
    "# separate each data group into data and labels\n",
    "training_data = training.loc[:, 'Open':'Score']\n",
    "# training_data = training.loc[:, 'Open':'ADX']\n",
    "# training_labels = training.loc[:, 'up']\n",
    "\n",
    "testing_data = testing.loc[:, 'Open':'Score']\n",
    "# testing_data = testing.loc[:, 'Open':'ADX']\n",
    "# testing_labels = testing.loc[:, 'up']"
   ]
  },
  {
   "cell_type": "code",
   "execution_count": 547,
   "metadata": {},
   "outputs": [
    {
     "data": {
      "text/html": [
       "<div>\n",
       "<style scoped>\n",
       "    .dataframe tbody tr th:only-of-type {\n",
       "        vertical-align: middle;\n",
       "    }\n",
       "\n",
       "    .dataframe tbody tr th {\n",
       "        vertical-align: top;\n",
       "    }\n",
       "\n",
       "    .dataframe thead th {\n",
       "        text-align: right;\n",
       "    }\n",
       "</style>\n",
       "<table border=\"1\" class=\"dataframe\">\n",
       "  <thead>\n",
       "    <tr style=\"text-align: right;\">\n",
       "      <th></th>\n",
       "      <th>Open</th>\n",
       "      <th>High</th>\n",
       "      <th>Low</th>\n",
       "      <th>Close</th>\n",
       "      <th>Adj Close</th>\n",
       "      <th>Volume</th>\n",
       "      <th>RSI</th>\n",
       "      <th>SMA</th>\n",
       "      <th>LMA</th>\n",
       "      <th>ADX</th>\n",
       "      <th>up</th>\n",
       "      <th>Score</th>\n",
       "    </tr>\n",
       "  </thead>\n",
       "  <tbody>\n",
       "    <tr>\n",
       "      <th>0</th>\n",
       "      <td>49.770000</td>\n",
       "      <td>51.189999</td>\n",
       "      <td>44.560001</td>\n",
       "      <td>45.939999</td>\n",
       "      <td>45.939999</td>\n",
       "      <td>9186800.0</td>\n",
       "      <td>45.962590</td>\n",
       "      <td>110.887913</td>\n",
       "      <td>78.886475</td>\n",
       "      <td>26.642816</td>\n",
       "      <td>0</td>\n",
       "      <td>-0.173827</td>\n",
       "    </tr>\n",
       "    <tr>\n",
       "      <th>1</th>\n",
       "      <td>49.752222</td>\n",
       "      <td>51.157777</td>\n",
       "      <td>44.505695</td>\n",
       "      <td>45.867082</td>\n",
       "      <td>45.867082</td>\n",
       "      <td>9186800.0</td>\n",
       "      <td>45.953698</td>\n",
       "      <td>110.590784</td>\n",
       "      <td>78.899723</td>\n",
       "      <td>26.625878</td>\n",
       "      <td>0</td>\n",
       "      <td>-0.173827</td>\n",
       "    </tr>\n",
       "    <tr>\n",
       "      <th>2</th>\n",
       "      <td>49.734445</td>\n",
       "      <td>51.125555</td>\n",
       "      <td>44.451390</td>\n",
       "      <td>45.794166</td>\n",
       "      <td>45.794166</td>\n",
       "      <td>9186800.0</td>\n",
       "      <td>45.944800</td>\n",
       "      <td>110.295705</td>\n",
       "      <td>78.912937</td>\n",
       "      <td>26.608974</td>\n",
       "      <td>0</td>\n",
       "      <td>-0.173827</td>\n",
       "    </tr>\n",
       "    <tr>\n",
       "      <th>3</th>\n",
       "      <td>49.716667</td>\n",
       "      <td>51.093332</td>\n",
       "      <td>44.397084</td>\n",
       "      <td>45.721249</td>\n",
       "      <td>45.721249</td>\n",
       "      <td>9186800.0</td>\n",
       "      <td>45.935898</td>\n",
       "      <td>110.002673</td>\n",
       "      <td>78.926115</td>\n",
       "      <td>26.592103</td>\n",
       "      <td>0</td>\n",
       "      <td>-0.173827</td>\n",
       "    </tr>\n",
       "    <tr>\n",
       "      <th>4</th>\n",
       "      <td>49.698889</td>\n",
       "      <td>51.061110</td>\n",
       "      <td>44.342779</td>\n",
       "      <td>45.648332</td>\n",
       "      <td>45.648332</td>\n",
       "      <td>9186800.0</td>\n",
       "      <td>45.926990</td>\n",
       "      <td>109.711690</td>\n",
       "      <td>78.939260</td>\n",
       "      <td>26.575264</td>\n",
       "      <td>0</td>\n",
       "      <td>-0.173827</td>\n",
       "    </tr>\n",
       "  </tbody>\n",
       "</table>\n",
       "</div>"
      ],
      "text/plain": [
       "        Open       High        Low      Close  Adj Close     Volume  \\\n",
       "0  49.770000  51.189999  44.560001  45.939999  45.939999  9186800.0   \n",
       "1  49.752222  51.157777  44.505695  45.867082  45.867082  9186800.0   \n",
       "2  49.734445  51.125555  44.451390  45.794166  45.794166  9186800.0   \n",
       "3  49.716667  51.093332  44.397084  45.721249  45.721249  9186800.0   \n",
       "4  49.698889  51.061110  44.342779  45.648332  45.648332  9186800.0   \n",
       "\n",
       "         RSI         SMA        LMA        ADX  up     Score  \n",
       "0  45.962590  110.887913  78.886475  26.642816   0 -0.173827  \n",
       "1  45.953698  110.590784  78.899723  26.625878   0 -0.173827  \n",
       "2  45.944800  110.295705  78.912937  26.608974   0 -0.173827  \n",
       "3  45.935898  110.002673  78.926115  26.592103   0 -0.173827  \n",
       "4  45.926990  109.711690  78.939260  26.575264   0 -0.173827  "
      ]
     },
     "execution_count": 547,
     "metadata": {},
     "output_type": "execute_result"
    }
   ],
   "source": [
    "training_data.head()"
   ]
  },
  {
   "cell_type": "code",
   "execution_count": 548,
   "metadata": {},
   "outputs": [],
   "source": [
    "# normalize training/testing data using standardscaler\n",
    "# this also converts the data into numpy arrays (necessary for TimeseriesGenerator)\n",
    "data_scaler = StandardScaler()\n",
    "normalized_training_data = data_scaler.fit_transform(training_data)\n",
    "# training_data_scaler = StandardScaler()\n",
    "# training_data_scaler = training_data_scaler.fit(training_data)\n",
    "# normalized_training_data = training_data_scaler.transform(training_data)\n",
    "# normalized_training_data\n",
    "\n",
    "# testing_data_scaler = StandardScaler()\n",
    "# testing_data_scaler = testing_data_scaler.fit(testing_data)\n",
    "# normalized_testing_data = testing_data_scaler.transform(testing_data)\n",
    "normalized_testing_data = data_scaler.transform(testing_data)"
   ]
  },
  {
   "cell_type": "code",
   "execution_count": 549,
   "metadata": {
    "scrolled": true
   },
   "outputs": [
    {
     "name": "stdout",
     "output_type": "stream",
     "text": [
      "[-0.97402153 -0.97402153 -0.97402153 ...  1.02667135  1.02667135\n",
      "  1.02667135]\n",
      "[1.02667135 1.02667135 1.02667135 ... 1.02667135 1.02667135 1.02667135]\n"
     ]
    }
   ],
   "source": [
    "# identify the label columns\n",
    "normalized_training_labels = normalized_training_data[:, 10]\n",
    "normalized_testing_labels = normalized_testing_data[:, 10]\n",
    "print(normalized_training_labels)\n",
    "print(normalized_testing_labels)\n",
    "# training_labels"
   ]
  },
  {
   "cell_type": "code",
   "execution_count": 550,
   "metadata": {
    "scrolled": true
   },
   "outputs": [],
   "source": [
    "# testing_ts_generator"
   ]
  },
  {
   "cell_type": "code",
   "execution_count": 551,
   "metadata": {},
   "outputs": [
    {
     "data": {
      "text/plain": [
       "numpy.ndarray"
      ]
     },
     "execution_count": 551,
     "metadata": {},
     "output_type": "execute_result"
    }
   ],
   "source": [
    "type(normalized_testing_data)"
   ]
  },
  {
   "cell_type": "code",
   "execution_count": 552,
   "metadata": {},
   "outputs": [],
   "source": [
    "# convert dataframe slices to numpy arrays for the timeseries generator\n",
    "# training_data = np.array(training_data)\n",
    "# training_labels = np.array(training_labels)\n",
    "# testing_data = np.array(testing_data)\n",
    "# testing_labels = np.array(testing_labels)"
   ]
  },
  {
   "cell_type": "code",
   "execution_count": 553,
   "metadata": {},
   "outputs": [],
   "source": [
    "# create timeseries generators for training and testing data/labels\n",
    "training_ts_generator = TimeseriesGenerator(\n",
    "    data=normalized_training_data,\n",
    "    targets=normalized_training_labels,\n",
    "#     targets=training_labels,\n",
    "    length=window_size,\n",
    "    batch_size=1\n",
    ")\n",
    "\n",
    "testing_ts_generator = TimeseriesGenerator(\n",
    "    data=normalized_testing_data,\n",
    "    targets=normalized_testing_labels,\n",
    "#     targets=testing_labels,\n",
    "    length=window_size,\n",
    "    batch_size=1\n",
    ")"
   ]
  },
  {
   "cell_type": "code",
   "execution_count": 554,
   "metadata": {},
   "outputs": [],
   "source": [
    "# processed_gme_data.head()"
   ]
  },
  {
   "cell_type": "code",
   "execution_count": 555,
   "metadata": {},
   "outputs": [
    {
     "name": "stdout",
     "output_type": "stream",
     "text": [
      "[[[-2.37120045 -2.40507799 -2.3988217  -2.45805618 -2.45805618\n",
      "   -0.4053415  -1.059327   -1.01771832 -2.04087564  0.81276943\n",
      "   -0.97402153 -3.06206343]\n",
      "  [-2.37154838 -2.40565526 -2.39996389 -2.45948248 -2.45948248\n",
      "   -0.4053415  -1.06037428 -1.02443606 -2.04048903  0.81077442\n",
      "   -0.97402153 -3.06206343]]] => [-0.97402153]\n"
     ]
    }
   ],
   "source": [
    "# just an example to see what output is\n",
    "for i in range(len(training_ts_generator)):\n",
    "    x, y = training_ts_generator[i]\n",
    "    print('%s => %s' % (x, y))\n",
    "    break"
   ]
  },
  {
   "cell_type": "code",
   "execution_count": 556,
   "metadata": {},
   "outputs": [
    {
     "name": "stdout",
     "output_type": "stream",
     "text": [
      "[[[ 1.70303493  1.72150508  2.02598938  2.10332388  2.10332388\n",
      "   -0.6397665   1.3803383   1.43456503  1.17756286  1.3348354\n",
      "    1.02667135  0.32724309]\n",
      "  [ 1.70357314  1.72573509  2.02874408  2.11192245  2.11192245\n",
      "   -0.6397665   1.38802248  1.43679133  1.17929748  1.33863748\n",
      "    1.02667135  0.32724309]]] => [1.02667135]\n"
     ]
    }
   ],
   "source": [
    "# just an example to see what output is\n",
    "for i in range(len(testing_ts_generator)):\n",
    "    x, y = testing_ts_generator[i]\n",
    "    print('%s => %s' % (x, y))\n",
    "    break"
   ]
  },
  {
   "cell_type": "markdown",
   "metadata": {},
   "source": [
    "# LSTM"
   ]
  },
  {
   "cell_type": "code",
   "execution_count": 557,
   "metadata": {},
   "outputs": [],
   "source": [
    "# normalized_testing_data.shape\n",
    "# training_ts_generator.shape"
   ]
  },
  {
   "cell_type": "code",
   "execution_count": 558,
   "metadata": {},
   "outputs": [
    {
     "name": "stdout",
     "output_type": "stream",
     "text": [
      "Model: \"sequential_32\"\n",
      "_________________________________________________________________\n",
      "Layer (type)                 Output Shape              Param #   \n",
      "=================================================================\n",
      "lstm_64 (LSTM)               (None, 2, 64)             19712     \n",
      "_________________________________________________________________\n",
      "lstm_65 (LSTM)               (None, 96)                61824     \n",
      "_________________________________________________________________\n",
      "dropout_32 (Dropout)         (None, 96)                0         \n",
      "_________________________________________________________________\n",
      "dense_32 (Dense)             (None, 1)                 97        \n",
      "=================================================================\n",
      "Total params: 81,633\n",
      "Trainable params: 81,633\n",
      "Non-trainable params: 0\n",
      "_________________________________________________________________\n"
     ]
    }
   ],
   "source": [
    "# define an LSTM for the normalized training data\n",
    "training_model = Sequential()\n",
    "# input_shape for each data input is window_size x number of features (column) in training_data\n",
    "training_model.add(LSTM(64, activation='sigmoid', input_shape=(window_size, 12), return_sequences=True))\n",
    "training_model.add(LSTM(96, activation='sigmoid', return_sequences=False))\n",
    "training_model.add(Dropout(0.2))\n",
    "\n",
    "# output either standardized 0 or 1\n",
    "training_model.add(Dense(1))\n",
    "\n",
    "training_model.compile(optimizer='SGD', loss='mse')\n",
    "training_model.summary()\n"
   ]
  },
  {
   "cell_type": "code",
   "execution_count": 559,
   "metadata": {
    "scrolled": false
   },
   "outputs": [
    {
     "name": "stdout",
     "output_type": "stream",
     "text": [
      "Epoch 1/10\n",
      "5470/5470 [==============================] - 41s 6ms/step - loss: 0.9544 - val_loss: 0.0655\n",
      "Epoch 2/10\n",
      "5470/5470 [==============================] - 28s 5ms/step - loss: 0.0855 - val_loss: 0.0350\n",
      "Epoch 3/10\n",
      "5470/5470 [==============================] - 29s 5ms/step - loss: 0.0678 - val_loss: 0.0332\n",
      "Epoch 4/10\n",
      "5470/5470 [==============================] - 29s 5ms/step - loss: 0.0594 - val_loss: 0.0327\n",
      "Epoch 5/10\n",
      "5470/5470 [==============================] - 29s 5ms/step - loss: 0.0468 - val_loss: 0.0307\n",
      "Epoch 6/10\n",
      "5470/5470 [==============================] - 23s 4ms/step - loss: 0.0520 - val_loss: 0.0315\n",
      "Epoch 7/10\n",
      "5470/5470 [==============================] - 28s 5ms/step - loss: 0.0573 - val_loss: 0.0292\n",
      "Epoch 8/10\n",
      "5470/5470 [==============================] - 30s 6ms/step - loss: 0.0401 - val_loss: 0.0292\n",
      "Epoch 9/10\n",
      "5470/5470 [==============================] - 23s 4ms/step - loss: 0.0520 - val_loss: 0.0481\n",
      "Epoch 10/10\n",
      "5470/5470 [==============================] - 25s 4ms/step - loss: 0.0454 - val_loss: 0.0294\n",
      "CPU times: user 6min 40s, sys: 35.1 s, total: 7min 15s\n",
      "Wall time: 4min 59s\n"
     ]
    }
   ],
   "source": [
    "%%time\n",
    "history_train = training_model.fit(training_ts_generator, validation_data=testing_ts_generator ,epochs=10)"
   ]
  },
  {
   "cell_type": "code",
   "execution_count": 560,
   "metadata": {},
   "outputs": [
    {
     "data": {
      "text/plain": [
       "[0.6139364242553711,\n",
       " 0.08099102228879929,\n",
       " 0.06634881347417831,\n",
       " 0.05678684264421463,\n",
       " 0.052125781774520874,\n",
       " 0.04892226681113243,\n",
       " 0.04875984787940979,\n",
       " 0.04934605211019516,\n",
       " 0.04647132381796837,\n",
       " 0.04583895206451416]"
      ]
     },
     "execution_count": 560,
     "metadata": {},
     "output_type": "execute_result"
    }
   ],
   "source": [
    "history_train.history['loss']"
   ]
  },
  {
   "cell_type": "code",
   "execution_count": 561,
   "metadata": {},
   "outputs": [
    {
     "data": {
      "image/png": "[encoded data removed]",
      "text/plain": [
       "<Figure size 432x288 with 1 Axes>"
      ]
     },
     "metadata": {
      "needs_background": "light"
     },
     "output_type": "display_data"
    }
   ],
   "source": [
    "# history_train.history\n",
    "plt.plot(history_train.history['loss'])\n",
    "plt.plot(history_train.history['val_loss'])\n",
    "plt.show()"
   ]
  },
  {
   "cell_type": "code",
   "execution_count": 562,
   "metadata": {},
   "outputs": [],
   "source": [
    "training_results = training_model.predict(training_ts_generator)\n",
    "testing_results = training_model.predict(testing_ts_generator)"
   ]
  },
  {
   "cell_type": "code",
   "execution_count": 563,
   "metadata": {},
   "outputs": [
    {
     "data": {
      "text/plain": [
       "[<matplotlib.lines.Line2D at 0x15d4ba6a0>]"
      ]
     },
     "execution_count": 563,
     "metadata": {},
     "output_type": "execute_result"
    },
    {
     "data": {
      "image/png": "[encoded data removed]",
      "text/plain": [
       "<Figure size 432x288 with 1 Axes>"
      ]
     },
     "metadata": {
      "needs_background": "light"
     },
     "output_type": "display_data"
    }
   ],
   "source": [
    "plt.plot(testing_results)"
   ]
  },
  {
   "cell_type": "code",
   "execution_count": 564,
   "metadata": {},
   "outputs": [],
   "source": [
    "# results\n",
    "prediction_results = training_model.predict(testing_ts_generator)"
   ]
  },
  {
   "cell_type": "code",
   "execution_count": 565,
   "metadata": {
    "scrolled": false
   },
   "outputs": [
    {
     "data": {
      "text/plain": [
       "array([[0.9607274 ],\n",
       "       [0.9608021 ],\n",
       "       [0.96041113],\n",
       "       ...,\n",
       "       [1.002573  ],\n",
       "       [1.0025954 ],\n",
       "       [1.0026182 ]], dtype=float32)"
      ]
     },
     "execution_count": 565,
     "metadata": {},
     "output_type": "execute_result"
    }
   ],
   "source": [
    "prediction_results"
   ]
  },
  {
   "cell_type": "code",
   "execution_count": 566,
   "metadata": {},
   "outputs": [
    {
     "data": {
      "text/plain": [
       "array([[0.9607274 , 0.9607274 , 0.9607274 , ..., 0.9607274 , 0.9607274 ,\n",
       "        0.9607274 ],\n",
       "       [0.9608021 , 0.9608021 , 0.9608021 , ..., 0.9608021 , 0.9608021 ,\n",
       "        0.9608021 ],\n",
       "       [0.96041113, 0.96041113, 0.96041113, ..., 0.96041113, 0.96041113,\n",
       "        0.96041113],\n",
       "       ...,\n",
       "       [1.002573  , 1.002573  , 1.002573  , ..., 1.002573  , 1.002573  ,\n",
       "        1.002573  ],\n",
       "       [1.0025954 , 1.0025954 , 1.0025954 , ..., 1.0025954 , 1.0025954 ,\n",
       "        1.0025954 ],\n",
       "       [1.0026182 , 1.0026182 , 1.0026182 , ..., 1.0026182 , 1.0026182 ,\n",
       "        1.0026182 ]], dtype=float32)"
      ]
     },
     "execution_count": 566,
     "metadata": {},
     "output_type": "execute_result"
    }
   ],
   "source": [
    "correctly_shaped_prediction_results = np.repeat(prediction_results, 12, axis=-1)\n",
    "correctly_shaped_prediction_results"
   ]
  },
  {
   "cell_type": "code",
   "execution_count": 567,
   "metadata": {},
   "outputs": [],
   "source": [
    "inverse_transform_results = data_scaler.inverse_transform(correctly_shaped_prediction_results)"
   ]
  },
  {
   "cell_type": "code",
   "execution_count": 568,
   "metadata": {},
   "outputs": [],
   "source": [
    "binary_results = inverse_transform_results[:, 10]"
   ]
  },
  {
   "cell_type": "code",
   "execution_count": 569,
   "metadata": {},
   "outputs": [
    {
     "data": {
      "image/png": "[encoded data removed]",
      "text/plain": [
       "<Figure size 432x288 with 1 Axes>"
      ]
     },
     "metadata": {
      "needs_background": "light"
     },
     "output_type": "display_data"
    }
   ],
   "source": [
    "plt.plot(binary_results)\n",
    "plt.show()"
   ]
  },
  {
   "cell_type": "code",
   "execution_count": 570,
   "metadata": {},
   "outputs": [],
   "source": [
    "predicted_testing_labels = []\n",
    "for label in binary_results:\n",
    "    if label > 0.9:\n",
    "        predicted_testing_labels.append(1)\n",
    "    else:\n",
    "        predicted_testing_labels.append(0)"
   ]
  },
  {
   "cell_type": "code",
   "execution_count": 571,
   "metadata": {},
   "outputs": [],
   "source": [
    "# predicted_testing_labels"
   ]
  },
  {
   "cell_type": "code",
   "execution_count": 572,
   "metadata": {},
   "outputs": [],
   "source": [
    "actual_testing_labels = list(testing_data['up'])\n",
    "# actual_testing_labels"
   ]
  },
  {
   "cell_type": "code",
   "execution_count": 573,
   "metadata": {
    "scrolled": true
   },
   "outputs": [
    {
     "name": "stdout",
     "output_type": "stream",
     "text": [
      "2368\n",
      "2378\n",
      "0.9957947855340622\n"
     ]
    }
   ],
   "source": [
    "correct_count = 0\n",
    "for predicted_label, actual_label in zip(predicted_testing_labels, actual_testing_labels):\n",
    "    if predicted_label == actual_label:\n",
    "        correct_count += 1\n",
    "print(correct_count)\n",
    "print(len(actual_testing_labels))\n",
    "\n",
    "# print out correct ratio\n",
    "print(correct_count/len(actual_testing_labels))"
   ]
  },
  {
   "cell_type": "markdown",
   "metadata": {},
   "source": [
    "# saving the model so far (for 72 time step case)"
   ]
  },
  {
   "cell_type": "code",
   "execution_count": 521,
   "metadata": {},
   "outputs": [
    {
     "name": "stdout",
     "output_type": "stream",
     "text": [
      "INFO:tensorflow:Assets written to: ./keras_models/lstm_sentiment_72_sequence_20_epoch/assets\n"
     ]
    }
   ],
   "source": [
    "# training_model.save('./keras_models/lstm_sentiment_72_sequence_20_epoch')"
   ]
  },
  {
   "cell_type": "markdown",
   "metadata": {},
   "source": [
    "# thoughts for lstm with sentiment data"
   ]
  },
  {
   "cell_type": "markdown",
   "metadata": {},
   "source": [
    "The results compared to LSTM without sentiment data are essentially negligible. One fundamental reason behind this may be the erratic behaviour of the posters and commenters behind the subreddits we have taken data from. Those being r/superstonk, r/GME, and r/wallstreetbets. All these subreddits generally have a very strong positive bias towards buying or holding onto shares.\n",
    "\n",
    "Another fundamental reason behind this is that, perhaps some posts and comments are reactionary, meaning the sentiment scores are lagging behind the price values. For example, people may talk positively about a stock only once it has gone up. Similarly, people will only talk negatively about a stock once prices have already gone done, or are currently going down."
   ]
  },
  {
   "cell_type": "code",
   "execution_count": 248,
   "metadata": {},
   "outputs": [
    {
     "name": "stdout",
     "output_type": "stream",
     "text": [
      "302.559998\n",
      "[0.15183765 0.15159665 0.15135565 ... 0.59590523 0.59597454 0.59604386]\n"
     ]
    },
    {
     "data": {
      "text/plain": [
       "[<matplotlib.lines.Line2D at 0x14bc3c340>]"
      ]
     },
     "execution_count": 248,
     "metadata": {},
     "output_type": "execute_result"
    },
    {
     "data": {
      "image/png": "[encoded data removed]",
      "text/plain": [
       "<Figure size 432x288 with 1 Axes>"
      ]
     },
     "metadata": {
      "needs_background": "light"
     },
     "output_type": "display_data"
    }
   ],
   "source": [
    "# try plotting out closing prices and sentiment scores on the same graph\n",
    "close_prices = processed_gme_data['Close']\n",
    "max_close_price = np.max(close_prices)\n",
    "print(max_close_price)\n",
    "close_prices = np.array(close_prices)\n",
    "close_prices /= max_close_price\n",
    "print(close_prices)\n",
    "\n",
    "plt.plot(close_prices)\n",
    "plt.plot(processed_gme_data['Score'])"
   ]
  },
  {
   "cell_type": "markdown",
   "metadata": {},
   "source": [
    "To try and find quantifiable reasons behind this, check the correlation between closing prices and the sentiment scores of the reddit data."
   ]
  },
  {
   "cell_type": "code",
   "execution_count": 296,
   "metadata": {},
   "outputs": [
    {
     "data": {
      "text/plain": [
       "array([[1.        , 0.14031801],\n",
       "       [0.14031801, 1.        ]])"
      ]
     },
     "execution_count": 296,
     "metadata": {},
     "output_type": "execute_result"
    }
   ],
   "source": [
    "sentiment_scores = np.array(processed_gme_data['Score'])\n",
    "correlation_values = np.corrcoef(close_prices, sentiment_scores)\n",
    "correlation_values"
   ]
  },
  {
   "cell_type": "markdown",
   "metadata": {},
   "source": [
    "Interestingly, there is a small postitive correlation between the closing prices and the sentiment data (0.14), although it's fairly weak.\n",
    "\n",
    "One very large problem is that the closing prices are linearly interpolated. See if the correlation is better or worse when the actual data from each day is used"
   ]
  },
  {
   "cell_type": "code",
   "execution_count": 526,
   "metadata": {},
   "outputs": [
    {
     "data": {
      "text/html": [
       "<div>\n",
       "<style scoped>\n",
       "    .dataframe tbody tr th:only-of-type {\n",
       "        vertical-align: middle;\n",
       "    }\n",
       "\n",
       "    .dataframe tbody tr th {\n",
       "        vertical-align: top;\n",
       "    }\n",
       "\n",
       "    .dataframe thead th {\n",
       "        text-align: right;\n",
       "    }\n",
       "</style>\n",
       "<table border=\"1\" class=\"dataframe\">\n",
       "  <thead>\n",
       "    <tr style=\"text-align: right;\">\n",
       "      <th></th>\n",
       "      <th>Date</th>\n",
       "      <th>Open</th>\n",
       "      <th>High</th>\n",
       "      <th>Low</th>\n",
       "      <th>Close</th>\n",
       "      <th>Adj Close</th>\n",
       "      <th>Volume</th>\n",
       "      <th>RSI</th>\n",
       "      <th>SMA</th>\n",
       "      <th>LMA</th>\n",
       "      <th>ADX</th>\n",
       "      <th>up</th>\n",
       "      <th>Score</th>\n",
       "      <th>Sentiment</th>\n",
       "    </tr>\n",
       "  </thead>\n",
       "  <tbody>\n",
       "    <tr>\n",
       "      <th>0</th>\n",
       "      <td>2021-02-17</td>\n",
       "      <td>49.770000</td>\n",
       "      <td>51.189999</td>\n",
       "      <td>44.560001</td>\n",
       "      <td>45.939999</td>\n",
       "      <td>45.939999</td>\n",
       "      <td>9186800.0</td>\n",
       "      <td>45.962590</td>\n",
       "      <td>110.887913</td>\n",
       "      <td>78.886475</td>\n",
       "      <td>26.642816</td>\n",
       "      <td>0</td>\n",
       "      <td>-0.173827</td>\n",
       "      <td>-1</td>\n",
       "    </tr>\n",
       "    <tr>\n",
       "      <th>72</th>\n",
       "      <td>2021-02-18</td>\n",
       "      <td>48.490002</td>\n",
       "      <td>48.869999</td>\n",
       "      <td>40.650002</td>\n",
       "      <td>40.689999</td>\n",
       "      <td>40.689999</td>\n",
       "      <td>23990600.0</td>\n",
       "      <td>45.308582</td>\n",
       "      <td>94.730224</td>\n",
       "      <td>79.752066</td>\n",
       "      <td>25.506572</td>\n",
       "      <td>0</td>\n",
       "      <td>0.059177</td>\n",
       "      <td>0</td>\n",
       "    </tr>\n",
       "    <tr>\n",
       "      <th>144</th>\n",
       "      <td>2021-02-19</td>\n",
       "      <td>41.279999</td>\n",
       "      <td>43.889999</td>\n",
       "      <td>38.500000</td>\n",
       "      <td>40.590000</td>\n",
       "      <td>40.590000</td>\n",
       "      <td>14828200.0</td>\n",
       "      <td>45.295396</td>\n",
       "      <td>79.046424</td>\n",
       "      <td>80.510980</td>\n",
       "      <td>24.514069</td>\n",
       "      <td>1</td>\n",
       "      <td>0.051113</td>\n",
       "      <td>0</td>\n",
       "    </tr>\n",
       "    <tr>\n",
       "      <th>216</th>\n",
       "      <td>2021-02-22</td>\n",
       "      <td>46.689999</td>\n",
       "      <td>48.509998</td>\n",
       "      <td>42.400002</td>\n",
       "      <td>46.000000</td>\n",
       "      <td>46.000000</td>\n",
       "      <td>19476000.0</td>\n",
       "      <td>46.205108</td>\n",
       "      <td>62.548353</td>\n",
       "      <td>81.348130</td>\n",
       "      <td>23.544155</td>\n",
       "      <td>0</td>\n",
       "      <td>0.211640</td>\n",
       "      <td>1</td>\n",
       "    </tr>\n",
       "    <tr>\n",
       "      <th>288</th>\n",
       "      <td>2021-02-23</td>\n",
       "      <td>44.970001</td>\n",
       "      <td>46.230000</td>\n",
       "      <td>40.000000</td>\n",
       "      <td>44.970001</td>\n",
       "      <td>44.970001</td>\n",
       "      <td>7565200.0</td>\n",
       "      <td>46.048515</td>\n",
       "      <td>54.613735</td>\n",
       "      <td>82.267982</td>\n",
       "      <td>22.605417</td>\n",
       "      <td>1</td>\n",
       "      <td>0.133193</td>\n",
       "      <td>1</td>\n",
       "    </tr>\n",
       "    <tr>\n",
       "      <th>...</th>\n",
       "      <td>...</td>\n",
       "      <td>...</td>\n",
       "      <td>...</td>\n",
       "      <td>...</td>\n",
       "      <td>...</td>\n",
       "      <td>...</td>\n",
       "      <td>...</td>\n",
       "      <td>...</td>\n",
       "      <td>...</td>\n",
       "      <td>...</td>\n",
       "      <td>...</td>\n",
       "      <td>...</td>\n",
       "      <td>...</td>\n",
       "      <td>...</td>\n",
       "    </tr>\n",
       "    <tr>\n",
       "      <th>7488</th>\n",
       "      <td>2021-07-16</td>\n",
       "      <td>170.149994</td>\n",
       "      <td>179.470001</td>\n",
       "      <td>166.300003</td>\n",
       "      <td>169.039993</td>\n",
       "      <td>169.039993</td>\n",
       "      <td>3278800.0</td>\n",
       "      <td>35.231303</td>\n",
       "      <td>193.645283</td>\n",
       "      <td>216.464699</td>\n",
       "      <td>17.787849</td>\n",
       "      <td>1</td>\n",
       "      <td>0.042680</td>\n",
       "      <td>0</td>\n",
       "    </tr>\n",
       "    <tr>\n",
       "      <th>7560</th>\n",
       "      <td>2021-07-19</td>\n",
       "      <td>163.300003</td>\n",
       "      <td>176.000000</td>\n",
       "      <td>161.220001</td>\n",
       "      <td>173.490005</td>\n",
       "      <td>173.490005</td>\n",
       "      <td>2436900.0</td>\n",
       "      <td>37.945254</td>\n",
       "      <td>190.780278</td>\n",
       "      <td>213.734502</td>\n",
       "      <td>18.345848</td>\n",
       "      <td>1</td>\n",
       "      <td>-0.031753</td>\n",
       "      <td>0</td>\n",
       "    </tr>\n",
       "    <tr>\n",
       "      <th>7632</th>\n",
       "      <td>2021-07-20</td>\n",
       "      <td>173.899994</td>\n",
       "      <td>193.639999</td>\n",
       "      <td>172.419998</td>\n",
       "      <td>191.179993</td>\n",
       "      <td>191.179993</td>\n",
       "      <td>3101100.0</td>\n",
       "      <td>47.362702</td>\n",
       "      <td>188.666657</td>\n",
       "      <td>211.002937</td>\n",
       "      <td>18.329639</td>\n",
       "      <td>0</td>\n",
       "      <td>0.092567</td>\n",
       "      <td>0</td>\n",
       "    </tr>\n",
       "    <tr>\n",
       "      <th>7704</th>\n",
       "      <td>2021-07-21</td>\n",
       "      <td>187.789993</td>\n",
       "      <td>195.509995</td>\n",
       "      <td>182.110001</td>\n",
       "      <td>185.809998</td>\n",
       "      <td>185.809998</td>\n",
       "      <td>2225900.0</td>\n",
       "      <td>45.129630</td>\n",
       "      <td>186.947019</td>\n",
       "      <td>207.613400</td>\n",
       "      <td>17.686936</td>\n",
       "      <td>0</td>\n",
       "      <td>0.057170</td>\n",
       "      <td>0</td>\n",
       "    </tr>\n",
       "    <tr>\n",
       "      <th>7776</th>\n",
       "      <td>2021-07-22</td>\n",
       "      <td>185.300003</td>\n",
       "      <td>187.690002</td>\n",
       "      <td>176.149994</td>\n",
       "      <td>178.850006</td>\n",
       "      <td>178.850006</td>\n",
       "      <td>1413000.0</td>\n",
       "      <td>42.349976</td>\n",
       "      <td>185.025560</td>\n",
       "      <td>203.646196</td>\n",
       "      <td>17.195222</td>\n",
       "      <td>1</td>\n",
       "      <td>-0.031830</td>\n",
       "      <td>0</td>\n",
       "    </tr>\n",
       "  </tbody>\n",
       "</table>\n",
       "<p>109 rows × 14 columns</p>\n",
       "</div>"
      ],
      "text/plain": [
       "            Date        Open        High         Low       Close   Adj Close  \\\n",
       "0     2021-02-17   49.770000   51.189999   44.560001   45.939999   45.939999   \n",
       "72    2021-02-18   48.490002   48.869999   40.650002   40.689999   40.689999   \n",
       "144   2021-02-19   41.279999   43.889999   38.500000   40.590000   40.590000   \n",
       "216   2021-02-22   46.689999   48.509998   42.400002   46.000000   46.000000   \n",
       "288   2021-02-23   44.970001   46.230000   40.000000   44.970001   44.970001   \n",
       "...          ...         ...         ...         ...         ...         ...   \n",
       "7488  2021-07-16  170.149994  179.470001  166.300003  169.039993  169.039993   \n",
       "7560  2021-07-19  163.300003  176.000000  161.220001  173.490005  173.490005   \n",
       "7632  2021-07-20  173.899994  193.639999  172.419998  191.179993  191.179993   \n",
       "7704  2021-07-21  187.789993  195.509995  182.110001  185.809998  185.809998   \n",
       "7776  2021-07-22  185.300003  187.690002  176.149994  178.850006  178.850006   \n",
       "\n",
       "          Volume        RSI         SMA         LMA        ADX  up     Score  \\\n",
       "0      9186800.0  45.962590  110.887913   78.886475  26.642816   0 -0.173827   \n",
       "72    23990600.0  45.308582   94.730224   79.752066  25.506572   0  0.059177   \n",
       "144   14828200.0  45.295396   79.046424   80.510980  24.514069   1  0.051113   \n",
       "216   19476000.0  46.205108   62.548353   81.348130  23.544155   0  0.211640   \n",
       "288    7565200.0  46.048515   54.613735   82.267982  22.605417   1  0.133193   \n",
       "...          ...        ...         ...         ...        ...  ..       ...   \n",
       "7488   3278800.0  35.231303  193.645283  216.464699  17.787849   1  0.042680   \n",
       "7560   2436900.0  37.945254  190.780278  213.734502  18.345848   1 -0.031753   \n",
       "7632   3101100.0  47.362702  188.666657  211.002937  18.329639   0  0.092567   \n",
       "7704   2225900.0  45.129630  186.947019  207.613400  17.686936   0  0.057170   \n",
       "7776   1413000.0  42.349976  185.025560  203.646196  17.195222   1 -0.031830   \n",
       "\n",
       "      Sentiment  \n",
       "0            -1  \n",
       "72            0  \n",
       "144           0  \n",
       "216           1  \n",
       "288           1  \n",
       "...         ...  \n",
       "7488          0  \n",
       "7560          0  \n",
       "7632          0  \n",
       "7704          0  \n",
       "7776          0  \n",
       "\n",
       "[109 rows x 14 columns]"
      ]
     },
     "execution_count": 526,
     "metadata": {},
     "output_type": "execute_result"
    }
   ],
   "source": [
    "back_to_original_gme = processed_gme_data.iloc[::72, :]\n",
    "back_to_original_gme"
   ]
  },
  {
   "cell_type": "code",
   "execution_count": 541,
   "metadata": {
    "scrolled": true
   },
   "outputs": [
    {
     "data": {
      "text/plain": [
       "[<matplotlib.lines.Line2D at 0x1592de1c0>]"
      ]
     },
     "execution_count": 541,
     "metadata": {},
     "output_type": "execute_result"
    },
    {
     "data": {
      "image/png": "[encoded data removed]",
      "text/plain": [
       "<Figure size 432x288 with 1 Axes>"
      ]
     },
     "metadata": {
      "needs_background": "light"
     },
     "output_type": "display_data"
    }
   ],
   "source": [
    "# try plotting out closing prices and sentiment scores on the same graph with \"actual\" data\n",
    "close_prices = back_to_original_gme['Close']\n",
    "max_close_price = np.max(close_prices)\n",
    "# print(max_close_price)\n",
    "close_prices = np.array(close_prices)\n",
    "close_prices /= max_close_price\n",
    "# print(close_prices)\n",
    "scores = back_to_original_gme['Score'].values\n",
    "scores = np.array(scores)\n",
    "\n",
    "min_close_price = np.min(close_prices)\n",
    "# scores += min_close_price\n",
    "# print(scores)\n",
    "# print(len(close_prices))\n",
    "# print(len(back_to_original_gme['Score']))\n",
    "plt.plot(close_prices)\n",
    "plt.plot(scores)"
   ]
  },
  {
   "cell_type": "code",
   "execution_count": 542,
   "metadata": {
    "scrolled": true
   },
   "outputs": [
    {
     "data": {
      "text/plain": [
       "array([[1.        , 0.14083053],\n",
       "       [0.14083053, 1.        ]])"
      ]
     },
     "execution_count": 542,
     "metadata": {},
     "output_type": "execute_result"
    }
   ],
   "source": [
    "correlation_values = np.corrcoef(close_prices, scores)\n",
    "correlation_values"
   ]
  },
  {
   "cell_type": "markdown",
   "metadata": {},
   "source": [
    "correlation increased only by about 7 ten-thousandths. Not a very large amount."
   ]
  },
  {
   "cell_type": "markdown",
   "metadata": {},
   "source": [
    "# BELOW USED FOR TESTING. RUN OPTIONALLY (takes excessively long time[4-5 hours])"
   ]
  },
  {
   "cell_type": "markdown",
   "metadata": {},
   "source": [
    "# testing different values of time step for accuracy"
   ]
  },
  {
   "cell_type": "code",
   "execution_count": 522,
   "metadata": {},
   "outputs": [
    {
     "name": "stdout",
     "output_type": "stream",
     "text": [
      "Model: \"sequential_22\"\n",
      "_________________________________________________________________\n",
      "Layer (type)                 Output Shape              Param #   \n",
      "=================================================================\n",
      "lstm_44 (LSTM)               (None, 1, 64)             19712     \n",
      "_________________________________________________________________\n",
      "lstm_45 (LSTM)               (None, 96)                61824     \n",
      "_________________________________________________________________\n",
      "dropout_22 (Dropout)         (None, 96)                0         \n",
      "_________________________________________________________________\n",
      "dense_22 (Dense)             (None, 1)                 97        \n",
      "=================================================================\n",
      "Total params: 81,633\n",
      "Trainable params: 81,633\n",
      "Non-trainable params: 0\n",
      "_________________________________________________________________\n",
      "Epoch 1/5\n",
      "5471/5471 [==============================] - 36s 5ms/step - loss: 0.9951 - val_loss: 0.0562\n",
      "Epoch 2/5\n",
      "5471/5471 [==============================] - 17s 3ms/step - loss: 0.1212 - val_loss: 0.0367\n",
      "Epoch 3/5\n",
      "5471/5471 [==============================] - 17s 3ms/step - loss: 0.0893 - val_loss: 0.0267\n",
      "Epoch 4/5\n",
      "5471/5471 [==============================] - 25s 4ms/step - loss: 0.0638 - val_loss: 0.0268\n",
      "Epoch 5/5\n",
      "5471/5471 [==============================] - 38s 7ms/step - loss: 0.0595 - val_loss: 0.0275\n",
      "5471/5471 [==============================] - 16s 3ms/step - loss: 0.0279\n",
      "2447/2447 [==============================] - 8s 3ms/step - loss: 0.0275\n",
      "2447\n",
      "2448\n",
      "0.9995915032679739\n",
      "Model: \"sequential_23\"\n",
      "_________________________________________________________________\n",
      "Layer (type)                 Output Shape              Param #   \n",
      "=================================================================\n",
      "lstm_46 (LSTM)               (None, 2, 64)             19712     \n",
      "_________________________________________________________________\n",
      "lstm_47 (LSTM)               (None, 96)                61824     \n",
      "_________________________________________________________________\n",
      "dropout_23 (Dropout)         (None, 96)                0         \n",
      "_________________________________________________________________\n",
      "dense_23 (Dense)             (None, 1)                 97        \n",
      "=================================================================\n",
      "Total params: 81,633\n",
      "Trainable params: 81,633\n",
      "Non-trainable params: 0\n",
      "_________________________________________________________________\n",
      "Epoch 1/5\n",
      "5470/5470 [==============================] - 42s 6ms/step - loss: 0.9511 - val_loss: 0.0402\n",
      "Epoch 2/5\n",
      "5470/5470 [==============================] - 24s 4ms/step - loss: 0.0904 - val_loss: 0.0323\n",
      "Epoch 3/5\n",
      "5470/5470 [==============================] - 23s 4ms/step - loss: 0.0650 - val_loss: 0.0306\n",
      "Epoch 4/5\n",
      "5470/5470 [==============================] - 27s 5ms/step - loss: 0.0522 - val_loss: 0.0335\n",
      "Epoch 5/5\n",
      "5470/5470 [==============================] - 24s 4ms/step - loss: 0.0562 - val_loss: 0.0291\n",
      "5470/5470 [==============================] - 9s 2ms/step - loss: 0.0297\n",
      "2446/2446 [==============================] - 4s 2ms/step - loss: 0.0291\n",
      "2438\n",
      "2448\n",
      "0.9959150326797386\n",
      "Model: \"sequential_24\"\n",
      "_________________________________________________________________\n",
      "Layer (type)                 Output Shape              Param #   \n",
      "=================================================================\n",
      "lstm_48 (LSTM)               (None, 3, 64)             19712     \n",
      "_________________________________________________________________\n",
      "lstm_49 (LSTM)               (None, 96)                61824     \n",
      "_________________________________________________________________\n",
      "dropout_24 (Dropout)         (None, 96)                0         \n",
      "_________________________________________________________________\n",
      "dense_24 (Dense)             (None, 1)                 97        \n",
      "=================================================================\n",
      "Total params: 81,633\n",
      "Trainable params: 81,633\n",
      "Non-trainable params: 0\n",
      "_________________________________________________________________\n",
      "Epoch 1/5\n",
      "5469/5469 [==============================] - 45s 7ms/step - loss: 0.9191 - val_loss: 0.0654\n",
      "Epoch 2/5\n",
      "5469/5469 [==============================] - 24s 4ms/step - loss: 0.0790 - val_loss: 0.0334\n",
      "Epoch 3/5\n",
      "5469/5469 [==============================] - 34s 6ms/step - loss: 0.0672 - val_loss: 0.0328\n",
      "Epoch 4/5\n",
      "5469/5469 [==============================] - 37s 7ms/step - loss: 0.0526 - val_loss: 0.0300\n",
      "Epoch 5/5\n",
      "5469/5469 [==============================] - 34s 6ms/step - loss: 0.0607 - val_loss: 0.0419\n",
      "5469/5469 [==============================] - 14s 2ms/step - loss: 0.0420\n",
      "2445/2445 [==============================] - 6s 2ms/step - loss: 0.0419\n",
      "2429\n",
      "2448\n",
      "0.9922385620915033\n",
      "Model: \"sequential_25\"\n",
      "_________________________________________________________________\n",
      "Layer (type)                 Output Shape              Param #   \n",
      "=================================================================\n",
      "lstm_50 (LSTM)               (None, 4, 64)             19712     \n",
      "_________________________________________________________________\n",
      "lstm_51 (LSTM)               (None, 96)                61824     \n",
      "_________________________________________________________________\n",
      "dropout_25 (Dropout)         (None, 96)                0         \n",
      "_________________________________________________________________\n",
      "dense_25 (Dense)             (None, 1)                 97        \n",
      "=================================================================\n",
      "Total params: 81,633\n",
      "Trainable params: 81,633\n",
      "Non-trainable params: 0\n",
      "_________________________________________________________________\n",
      "Epoch 1/5\n",
      "5468/5468 [==============================] - 47s 8ms/step - loss: 0.8472 - val_loss: 0.0386\n",
      "Epoch 2/5\n",
      "5468/5468 [==============================] - 40s 7ms/step - loss: 0.0775 - val_loss: 0.0361\n",
      "Epoch 3/5\n",
      "5468/5468 [==============================] - 39s 7ms/step - loss: 0.0583 - val_loss: 0.0327\n",
      "Epoch 4/5\n",
      "5468/5468 [==============================] - 36s 7ms/step - loss: 0.0657 - val_loss: 0.0345\n",
      "Epoch 5/5\n",
      "5468/5468 [==============================] - 41s 8ms/step - loss: 0.0541 - val_loss: 0.0307\n",
      "5468/5468 [==============================] - 14s 3ms/step - loss: 0.0313\n",
      "2444/2444 [==============================] - 7s 3ms/step - loss: 0.0307\n",
      "2412\n",
      "2448\n",
      "0.9852941176470589\n",
      "Model: \"sequential_26\"\n",
      "_________________________________________________________________\n",
      "Layer (type)                 Output Shape              Param #   \n",
      "=================================================================\n",
      "lstm_52 (LSTM)               (None, 5, 64)             19712     \n",
      "_________________________________________________________________\n",
      "lstm_53 (LSTM)               (None, 96)                61824     \n",
      "_________________________________________________________________\n",
      "dropout_26 (Dropout)         (None, 96)                0         \n",
      "_________________________________________________________________\n",
      "dense_26 (Dense)             (None, 1)                 97        \n",
      "=================================================================\n",
      "Total params: 81,633\n",
      "Trainable params: 81,633\n",
      "Non-trainable params: 0\n",
      "_________________________________________________________________\n",
      "Epoch 1/5\n",
      "5467/5467 [==============================] - 65s 9ms/step - loss: 0.7861 - val_loss: 0.0357\n",
      "Epoch 2/5\n",
      "5467/5467 [==============================] - 46s 8ms/step - loss: 0.0755 - val_loss: 0.0316\n",
      "Epoch 3/5\n",
      "5467/5467 [==============================] - 46s 8ms/step - loss: 0.0605 - val_loss: 0.0324\n",
      "Epoch 4/5\n",
      "5467/5467 [==============================] - 45s 8ms/step - loss: 0.0521 - val_loss: 0.1126\n",
      "Epoch 5/5\n",
      "5467/5467 [==============================] - 46s 8ms/step - loss: 0.0565 - val_loss: 0.1083\n",
      "5467/5467 [==============================] - 16s 3ms/step - loss: 0.1015\n",
      "2443/2443 [==============================] - 6s 3ms/step - loss: 0.1083\n",
      "1440\n",
      "2448\n",
      "0.5882352941176471\n",
      "Model: \"sequential_27\"\n",
      "_________________________________________________________________\n",
      "Layer (type)                 Output Shape              Param #   \n",
      "=================================================================\n",
      "lstm_54 (LSTM)               (None, 6, 64)             19712     \n",
      "_________________________________________________________________\n",
      "lstm_55 (LSTM)               (None, 96)                61824     \n",
      "_________________________________________________________________\n",
      "dropout_27 (Dropout)         (None, 96)                0         \n",
      "_________________________________________________________________\n",
      "dense_27 (Dense)             (None, 1)                 97        \n",
      "=================================================================\n",
      "Total params: 81,633\n",
      "Trainable params: 81,633\n",
      "Non-trainable params: 0\n",
      "_________________________________________________________________\n",
      "Epoch 1/5\n"
     ]
    },
    {
     "name": "stdout",
     "output_type": "stream",
     "text": [
      "5466/5466 [==============================] - 51s 9ms/step - loss: 0.8294 - val_loss: 0.0494\n",
      "Epoch 2/5\n",
      "5466/5466 [==============================] - 48s 9ms/step - loss: 0.0832 - val_loss: 0.0387\n",
      "Epoch 3/5\n",
      "5466/5466 [==============================] - 49s 9ms/step - loss: 0.0635 - val_loss: 0.0816\n",
      "Epoch 4/5\n",
      "5466/5466 [==============================] - 35s 6ms/step - loss: 0.0511 - val_loss: 0.0350\n",
      "Epoch 5/5\n",
      "5466/5466 [==============================] - 47s 9ms/step - loss: 0.0646 - val_loss: 0.0368\n",
      "5466/5466 [==============================] - 13s 2ms/step - loss: 0.0347: 0s - loss: 0.0 - ETA: 0s - loss: 0\n",
      "2442/2442 [==============================] - 7s 3ms/step - loss: 0.0368A\n",
      "2378\n",
      "2448\n",
      "0.9714052287581699\n",
      "Model: \"sequential_28\"\n",
      "_________________________________________________________________\n",
      "Layer (type)                 Output Shape              Param #   \n",
      "=================================================================\n",
      "lstm_56 (LSTM)               (None, 7, 64)             19712     \n",
      "_________________________________________________________________\n",
      "lstm_57 (LSTM)               (None, 96)                61824     \n",
      "_________________________________________________________________\n",
      "dropout_28 (Dropout)         (None, 96)                0         \n",
      "_________________________________________________________________\n",
      "dense_28 (Dense)             (None, 1)                 97        \n",
      "=================================================================\n",
      "Total params: 81,633\n",
      "Trainable params: 81,633\n",
      "Non-trainable params: 0\n",
      "_________________________________________________________________\n",
      "Epoch 1/5\n",
      "5465/5465 [==============================] - 63s 11ms/step - loss: 0.8228 - val_loss: 0.0421\n",
      "Epoch 2/5\n",
      "5465/5465 [==============================] - 52s 10ms/step - loss: 0.0735 - val_loss: 0.0388\n",
      "Epoch 3/5\n",
      "5465/5465 [==============================] - 52s 10ms/step - loss: 0.0656 - val_loss: 0.0368\n",
      "Epoch 4/5\n",
      "5465/5465 [==============================] - 54s 10ms/step - loss: 0.0630 - val_loss: 0.0379\n",
      "Epoch 5/5\n",
      "5465/5465 [==============================] - 48s 9ms/step - loss: 0.0554 - val_loss: 0.0347\n",
      "5465/5465 [==============================] - 14s 3ms/step - loss: 0.0337\n",
      "2441/2441 [==============================] - 6s 2ms/step - loss: 0.0347\n",
      "2361\n",
      "2448\n",
      "0.9644607843137255\n",
      "Model: \"sequential_29\"\n",
      "_________________________________________________________________\n",
      "Layer (type)                 Output Shape              Param #   \n",
      "=================================================================\n",
      "lstm_58 (LSTM)               (None, 8, 64)             19712     \n",
      "_________________________________________________________________\n",
      "lstm_59 (LSTM)               (None, 96)                61824     \n",
      "_________________________________________________________________\n",
      "dropout_29 (Dropout)         (None, 96)                0         \n",
      "_________________________________________________________________\n",
      "dense_29 (Dense)             (None, 1)                 97        \n",
      "=================================================================\n",
      "Total params: 81,633\n",
      "Trainable params: 81,633\n",
      "Non-trainable params: 0\n",
      "_________________________________________________________________\n",
      "Epoch 1/5\n",
      "5464/5464 [==============================] - 46s 8ms/step - loss: 0.7215 - val_loss: 0.0349\n",
      "Epoch 2/5\n",
      "5464/5464 [==============================] - 39s 7ms/step - loss: 0.0812 - val_loss: 0.0371\n",
      "Epoch 3/5\n",
      "5464/5464 [==============================] - 39s 7ms/step - loss: 0.0582 - val_loss: 0.0389\n",
      "Epoch 4/5\n",
      "5464/5464 [==============================] - 39s 7ms/step - loss: 0.0519 - val_loss: 0.0605\n",
      "Epoch 5/5\n",
      "5464/5464 [==============================] - 41s 8ms/step - loss: 0.0572 - val_loss: 0.0340\n",
      "5464/5464 [==============================] - 12s 2ms/step - loss: 0.0339\n",
      "2440/2440 [==============================] - 6s 2ms/step - loss: 0.0340\n",
      "2344\n",
      "2448\n",
      "0.9575163398692811\n",
      "Model: \"sequential_30\"\n",
      "_________________________________________________________________\n",
      "Layer (type)                 Output Shape              Param #   \n",
      "=================================================================\n",
      "lstm_60 (LSTM)               (None, 9, 64)             19712     \n",
      "_________________________________________________________________\n",
      "lstm_61 (LSTM)               (None, 96)                61824     \n",
      "_________________________________________________________________\n",
      "dropout_30 (Dropout)         (None, 96)                0         \n",
      "_________________________________________________________________\n",
      "dense_30 (Dense)             (None, 1)                 97        \n",
      "=================================================================\n",
      "Total params: 81,633\n",
      "Trainable params: 81,633\n",
      "Non-trainable params: 0\n",
      "_________________________________________________________________\n",
      "Epoch 1/5\n",
      "5463/5463 [==============================] - 46s 8ms/step - loss: 0.7709 - val_loss: 0.0510\n",
      "Epoch 2/5\n",
      "5463/5463 [==============================] - 44s 8ms/step - loss: 0.0928 - val_loss: 0.0388\n",
      "Epoch 3/5\n",
      "5463/5463 [==============================] - 44s 8ms/step - loss: 0.0682 - val_loss: 0.0432\n",
      "Epoch 4/5\n",
      "5463/5463 [==============================] - 43s 8ms/step - loss: 0.0548 - val_loss: 0.0347\n",
      "Epoch 5/5\n",
      "5463/5463 [==============================] - 43s 8ms/step - loss: 0.0583 - val_loss: 0.0329\n",
      "5463/5463 [==============================] - 12s 2ms/step - loss: 0.0334\n",
      "2439/2439 [==============================] - 5s 2ms/step - loss: 0.0329\n",
      "2328\n",
      "2448\n",
      "0.9509803921568627\n",
      "Model: \"sequential_31\"\n",
      "_________________________________________________________________\n",
      "Layer (type)                 Output Shape              Param #   \n",
      "=================================================================\n",
      "lstm_62 (LSTM)               (None, 10, 64)            19712     \n",
      "_________________________________________________________________\n",
      "lstm_63 (LSTM)               (None, 96)                61824     \n",
      "_________________________________________________________________\n",
      "dropout_31 (Dropout)         (None, 96)                0         \n",
      "_________________________________________________________________\n",
      "dense_31 (Dense)             (None, 1)                 97        \n",
      "=================================================================\n",
      "Total params: 81,633\n",
      "Trainable params: 81,633\n",
      "Non-trainable params: 0\n",
      "_________________________________________________________________\n",
      "Epoch 1/5\n",
      "5462/5462 [==============================] - 55s 9ms/step - loss: 0.7868 - val_loss: 0.0380\n",
      "Epoch 2/5\n",
      "5462/5462 [==============================] - 46s 8ms/step - loss: 0.0770 - val_loss: 0.0416\n",
      "Epoch 3/5\n",
      "5462/5462 [==============================] - 46s 8ms/step - loss: 0.0633 - val_loss: 0.0351\n",
      "Epoch 4/5\n",
      "5462/5462 [==============================] - 45s 8ms/step - loss: 0.0607 - val_loss: 0.0353\n",
      "Epoch 5/5\n",
      "5462/5462 [==============================] - 46s 8ms/step - loss: 0.0562 - val_loss: 0.0416\n",
      "5462/5462 [==============================] - 14s 3ms/step - loss: 0.0391\n",
      "2438/2438 [==============================] - 6s 2ms/step - loss: 0.0416\n",
      "2310\n",
      "2448\n",
      "0.9436274509803921\n"
     ]
    }
   ],
   "source": [
    "window_accuracies = []\n",
    "for window in range (1,11):\n",
    "    training_ts_generator = TimeseriesGenerator(\n",
    "        data=normalized_training_data,\n",
    "        targets=normalized_training_labels,\n",
    "    #     targets=training_labels,\n",
    "        length=window,\n",
    "        batch_size=1\n",
    "    )\n",
    "\n",
    "    testing_ts_generator = TimeseriesGenerator(\n",
    "        data=normalized_testing_data,\n",
    "        targets=normalized_testing_labels,\n",
    "    #     targets=testing_labels,\n",
    "        length=window,\n",
    "        batch_size=1\n",
    "    ) \n",
    "    training_model = Sequential()\n",
    "    # input_shape for each data input is window_size x number of features (column) in training_data\n",
    "    training_model.add(LSTM(64, activation='sigmoid', input_shape=(window, 12), return_sequences=True))\n",
    "    training_model.add(LSTM(96, activation='sigmoid', return_sequences=False))\n",
    "    training_model.add(Dropout(0.2))\n",
    "\n",
    "    # output either standardized 0 or 1\n",
    "    training_model.add(Dense(1))\n",
    "\n",
    "    training_model.compile(optimizer='SGD', loss='mse')\n",
    "    training_model.summary()\n",
    "    \n",
    "    history_train = training_model.fit(training_ts_generator, validation_data=testing_ts_generator, epochs=5)\n",
    "    \n",
    "    training_results = training_model.evaluate(training_ts_generator)\n",
    "    testing_results = training_model.evaluate(testing_ts_generator)\n",
    "    \n",
    "    prediction_results = training_model.predict(testing_ts_generator)\n",
    "    \n",
    "    correctly_shaped_prediction_results = np.repeat(prediction_results, 12, axis=-1)\n",
    "\n",
    "    inverse_transform_results = data_scaler.inverse_transform(correctly_shaped_prediction_results)\n",
    "    \n",
    "    binary_results = inverse_transform_results[:, 10]\n",
    "    \n",
    "    predicted_testing_labels = []\n",
    "    for label in binary_results:\n",
    "        if label > 0.9:\n",
    "            predicted_testing_labels.append(1)\n",
    "        else:\n",
    "            predicted_testing_labels.append(0)\n",
    "            \n",
    "    correct_count = 0\n",
    "    for predicted_label, actual_label in zip(predicted_testing_labels, actual_testing_labels):\n",
    "        if predicted_label == actual_label:\n",
    "            correct_count += 1\n",
    "    print(correct_count)\n",
    "    print(len(actual_testing_labels))\n",
    "\n",
    "    # print out correct ratio\n",
    "    current_accuracy = correct_count/len(actual_testing_labels)\n",
    "    print(current_accuracy)\n",
    "    window_accuracies.append(current_accuracy)"
   ]
  },
  {
   "cell_type": "code",
   "execution_count": 524,
   "metadata": {
    "scrolled": true
   },
   "outputs": [
    {
     "data": {
      "image/png": "[encoded data removed]",
      "text/plain": [
       "<Figure size 432x288 with 1 Axes>"
      ]
     },
     "metadata": {
      "needs_background": "light"
     },
     "output_type": "display_data"
    }
   ],
   "source": [
    "plt.plot(window_accuracies)\n",
    "plt.show()"
   ]
  },
  {
   "cell_type": "code",
   "execution_count": 525,
   "metadata": {},
   "outputs": [
    {
     "data": {
      "text/plain": [
       "[0.9995915032679739,\n",
       " 0.9959150326797386,\n",
       " 0.9922385620915033,\n",
       " 0.9852941176470589,\n",
       " 0.5882352941176471,\n",
       " 0.9714052287581699,\n",
       " 0.9644607843137255,\n",
       " 0.9575163398692811,\n",
       " 0.9509803921568627,\n",
       " 0.9436274509803921]"
      ]
     },
     "execution_count": 525,
     "metadata": {},
     "output_type": "execute_result"
    }
   ],
   "source": [
    "window_accuracies"
   ]
  },
  {
   "cell_type": "markdown",
   "metadata": {},
   "source": [
    "# Cross Validation"
   ]
  },
  {
   "cell_type": "code",
   "execution_count": null,
   "metadata": {},
   "outputs": [],
   "source": [
    "activation_funcs = ['relu', 'sigmoid', 'softmax']\n",
    "node_values = [val for val in range(32, 129, 32)]\n",
    "drop_values = [0.2, 0.3, 0.4, 0.5]\n",
    "node_values"
   ]
  },
  {
   "cell_type": "code",
   "execution_count": null,
   "metadata": {
    "scrolled": true
   },
   "outputs": [],
   "source": [
    "# %%time\n",
    "# history_train = training_model.fit(training_ts_generator, epochs=5)"
   ]
  },
  {
   "cell_type": "code",
   "execution_count": null,
   "metadata": {},
   "outputs": [],
   "source": [
    "# training_results = training_model.evaluate(training_ts_generator)\n",
    "# testing_results = training_model.evaluate(testing_ts_generator)"
   ]
  },
  {
   "cell_type": "code",
   "execution_count": null,
   "metadata": {},
   "outputs": [],
   "source": [
    "# training_results\n",
    "history_train.history"
   ]
  },
  {
   "cell_type": "code",
   "execution_count": null,
   "metadata": {},
   "outputs": [],
   "source": [
    "# runs for around 4 hours! avoid running if possible!!!!\n",
    "\n",
    "# define min_loss\n",
    "min_loss = math.inf\n",
    "\n",
    "# define best hyper params to use\n",
    "best_func = None\n",
    "best_first_hidden_nodes = None\n",
    "best_second_hidden_nodes = None\n",
    "best_dropout = None\n",
    "\n",
    "for activation_func in activation_funcs:\n",
    "    for i in range(len(node_values)):\n",
    "        for j in range(len(node_values)):\n",
    "            for drop_value in drop_values:\n",
    "                \n",
    "                # define an LSTM for the normalized training data\n",
    "                cross_valid_model = Sequential()\n",
    "                # input_shape for each data input is window_size x number of features (column) in training_data\n",
    "                cross_valid_model.add(\n",
    "                    LSTM(\n",
    "                        node_values[i],\n",
    "                        activation=activation_func,\n",
    "                        input_shape=(window_size, 11),\n",
    "                        return_sequences=True\n",
    "                    )\n",
    "                )\n",
    "                cross_valid_model.add(\n",
    "                    LSTM(\n",
    "                        node_values[j],\n",
    "                        activation=activation_func,\n",
    "                        return_sequences=False\n",
    "                    )\n",
    "                )\n",
    "                cross_valid_model.add(Dropout(drop_value))\n",
    "\n",
    "                # output either standardized 0 or 1\n",
    "                cross_valid_model.add(Dense(1))\n",
    "\n",
    "                # leaving optimizer and loss funcs as-is\n",
    "                cross_valid_model.compile(optimizer='SGD', loss='mse')\n",
    "                \n",
    "                # fit data to the cross_validation model\n",
    "                cross_valid_model.fit(training_ts_generator, epochs=5)\n",
    "                \n",
    "                # training/testing loss values\n",
    "                cross_valid_train_loss = cross_valid_model.evaluate(training_ts_generator)\n",
    "                cross_valid_test_loss = cross_valid_model.evaluate(testing_ts_generator)\n",
    "                \n",
    "                if cross_valid_test_loss < min_loss:\n",
    "                    best_func = activation_func\n",
    "                    best_first_hidden_nodes = node_values[i]\n",
    "                    best_second_hidden_nodes = node_values[j]\n",
    "                    best_dropout = drop_value\n",
    "                    min_loss = cross_valid_test_loss\n",
    "                    print(f'{best_func}, {best_first_hidden_nodes}, {best_second_hidden_nodes}, {best_dropout}')\n",
    "                    print(min_loss)\n",
    "                \n",
    "# cross_valid_model.summary()\n"
   ]
  },
  {
   "cell_type": "code",
   "execution_count": null,
   "metadata": {},
   "outputs": [],
   "source": [
    "print(best_func)\n",
    "print(best_first_hidden_nodes)\n",
    "print(best_second_hidden_nodes)\n",
    "print(best_dropout)\n",
    "print(min_loss)"
   ]
  },
  {
   "cell_type": "code",
   "execution_count": null,
   "metadata": {},
   "outputs": [],
   "source": []
  }
 ],
 "metadata": {
  "kernelspec": {
   "display_name": "Python 3",
   "language": "python",
   "name": "python3"
  },
  "language_info": {
   "codemirror_mode": {
    "name": "ipython",
    "version": 3
   },
   "file_extension": ".py",
   "mimetype": "text/x-python",
   "name": "python",
   "nbconvert_exporter": "python",
   "pygments_lexer": "ipython3",
   "version": "3.8.5"
  }
 },
 "nbformat": 4,
 "nbformat_minor": 4
}
